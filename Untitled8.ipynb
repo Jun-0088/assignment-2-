{
 "cells": [
  {
   "cell_type": "code",
   "execution_count": 9,
   "id": "ae12e979",
   "metadata": {},
   "outputs": [
    {
     "name": "stdout",
     "output_type": "stream",
     "text": [
      "Sampling complete!\n",
      "Posterior means:\n",
      "μ: 4.78, σ²: 1.71, ν: 3.5\n"
     ]
    }
   ],
   "source": [
    "# question 1 \n",
    "import numpy as np\n",
    "import scipy.special as sp\n",
    "\n",
    "# ========== Data Generation ==========\n",
    "np.random.seed(42)\n",
    "n = 100  # Sample size\n",
    "true_mu, true_sigma2, true_nu = 5, 2, 5  # True parameters\n",
    "x = true_mu + np.sqrt(true_sigma2) * np.random.standard_t(true_nu, size=n)\n",
    "\n",
    "# ========== Prior Parameters ==========\n",
    "mu_0, tau_0 = 0, 0.1         # Normal prior for μ\n",
    "sigma0_sq = 10                # Half-normal scale for σ²\n",
    "nu_values = np.arange(1, 101) # Discrete uniform support for ν\n",
    "\n",
    "# ========== Precomputations ==========\n",
    "# Cache gamma function terms for ν likelihood\n",
    "c1 = sp.gammaln((nu_values + 1)/2) - sp.gammaln(nu_values/2) - 0.5*np.log(np.pi*nu_values)\n",
    "\n",
    "# ========== MCMC Setup ==========\n",
    "# Initialize chains\n",
    "current_mu, current_sigma2 = mu_0, 1.0  # Starting values\n",
    "current_nu = 3\n",
    "n_iter = 10000              # Number of iterations\n",
    "step_mu, step_eta = 0.1, 0.1  # Proposal step sizes\n",
    "\n",
    "# Storage arrays\n",
    "trace_mu = np.zeros(n_iter)\n",
    "trace_sigma2 = np.zeros(n_iter)\n",
    "trace_nu = np.zeros(n_iter, dtype=int)\n",
    "\n",
    "# ========== Sampling Loop ==========\n",
    "for t in range(n_iter):\n",
    "    # ----- Update μ (Metropolis step) -----\n",
    "    # Propose new μ\n",
    "    mu_proposal = current_mu + np.random.normal(0, step_mu)\n",
    "    \n",
    "    # Calculate log-priors\n",
    "    log_prior_prop = -0.5 * tau_0 * (mu_proposal - mu_0)**2\n",
    "    log_prior_curr = -0.5 * tau_0 * (current_mu - mu_0)**2\n",
    "    \n",
    "    # Calculate log-likelihoods\n",
    "    diff_prop = x - mu_proposal\n",
    "    diff_curr = x - current_mu\n",
    "    c1_nu = c1[current_nu - 1]  # Get precomputed ν term\n",
    "    \n",
    "    # Fixed: Added closing parentheses for np.log()\n",
    "    term_prop = c1_nu - 0.5*np.log(current_sigma2) - (current_nu + 1)/2 * np.log(\n",
    "        1 + (diff_prop**2)/(current_nu * current_sigma2))\n",
    "    term_curr = c1_nu - 0.5*np.log(current_sigma2) - (current_nu + 1)/2 * np.log(\n",
    "        1 + (diff_curr**2)/(current_nu * current_sigma2))\n",
    "    \n",
    "    log_likelihood_prop = term_prop.sum()\n",
    "    log_likelihood_curr = term_curr.sum()\n",
    "    \n",
    "    # Calculate acceptance probability\n",
    "    log_accept = (log_prior_prop + log_likelihood_prop) - (log_prior_curr + log_likelihood_curr)\n",
    "    if np.log(np.random.rand()) < log_accept:\n",
    "        current_mu = mu_proposal\n",
    "    trace_mu[t] = current_mu\n",
    "\n",
    "    # ----- Update σ² (Metropolis on log scale) -----\n",
    "    # Transform to η = log(σ²) for proposals\n",
    "    eta_current = np.log(current_sigma2)\n",
    "    eta_proposal = eta_current + np.random.normal(0, step_eta)\n",
    "    sigma2_proposal = np.exp(eta_proposal)\n",
    "    \n",
    "    # Calculate log-priors (including Jacobian)\n",
    "    log_prior_prop = 0.5*np.log(2/(np.pi*sigma0_sq)) - (sigma2_proposal**2)/(2*sigma0_sq)\n",
    "    log_prior_curr = 0.5*np.log(2/(np.pi*sigma0_sq)) - (current_sigma2**2)/(2*sigma0_sq)\n",
    "    \n",
    "    # Calculate log-likelihoods\n",
    "    diff = x - current_mu\n",
    "    term_prop = c1[current_nu - 1] - 0.5*np.log(sigma2_proposal) - (current_nu + 1)/2 * np.log(\n",
    "        1 + (diff**2)/(current_nu * sigma2_proposal))\n",
    "    term_curr = c1[current_nu - 1] - 0.5*np.log(current_sigma2) - (current_nu + 1)/2 * np.log(\n",
    "        1 + (diff**2)/(current_nu * current_sigma2))\n",
    "    \n",
    "    log_likelihood_prop = term_prop.sum()\n",
    "    log_likelihood_curr = term_curr.sum()\n",
    "    \n",
    "    # Calculate acceptance probability (including Jacobian)\n",
    "    log_p_prop = log_prior_prop + log_likelihood_prop + eta_proposal  # + eta_proposal is Jacobian\n",
    "    log_p_curr = log_prior_curr + log_likelihood_curr + eta_current\n",
    "    log_accept = log_p_prop - log_p_curr\n",
    "    if np.log(np.random.rand()) < log_accept:\n",
    "        current_sigma2 = sigma2_proposal\n",
    "    trace_sigma2[t] = current_sigma2\n",
    "\n",
    "    # ----- Update ν (Gibbs step) -----\n",
    "    # Precompute terms for all possible ν values\n",
    "    squared_diff = (x - current_mu)**2 / current_sigma2\n",
    "    sum_terms = np.log(1 + squared_diff[:, np.newaxis]/nu_values[np.newaxis, :]).sum(axis=0)\n",
    "    \n",
    "    # Calculate log-joint probabilities\n",
    "    log_joint = (c1 * n \n",
    "                 - 0.5 * n * np.log(current_sigma2) \n",
    "                 - (nu_values + 1)/2 * sum_terms \n",
    "                 + np.log(1/100))  # Uniform prior\n",
    "    \n",
    "    # Convert to probabilities and sample\n",
    "    log_joint -= np.max(log_joint)  # Numerical stability\n",
    "    probs = np.exp(log_joint)\n",
    "    probs /= probs.sum()\n",
    "    current_nu = np.random.choice(nu_values, p=probs)\n",
    "    trace_nu[t] = current_nu\n",
    "\n",
    "# ========== Post-Processing ==========\n",
    "# Burn-in and thinning (example: first 20% as burn-in)\n",
    "burn_in = n_iter // 5\n",
    "trace_mu = trace_mu[burn_in:]\n",
    "trace_sigma2 = trace_sigma2[burn_in:]\n",
    "trace_nu = trace_nu[burn_in:]\n",
    "\n",
    "print(\"Sampling complete!\")\n",
    "print(f\"Posterior means:\\nμ: {trace_mu.mean():.2f}, σ²: {trace_sigma2.mean():.2f}, ν: {trace_nu.mean():.1f}\")"
   ]
  },
  {
   "cell_type": "code",
   "execution_count": 18,
   "id": "ef6549b8",
   "metadata": {},
   "outputs": [
    {
     "name": "stderr",
     "output_type": "stream",
     "text": [
      "Multiprocess sampling (4 chains in 4 jobs)\n",
      "CompoundStep\n",
      ">NUTS: [μ, σ²]\n",
      ">Metropolis: [ν_idx]\n"
     ]
    },
    {
     "data": {
      "text/html": [
       "\n",
       "<style>\n",
       "    /* Turns off some styling */\n",
       "    progress {\n",
       "        /* gets rid of default border in Firefox and Opera. */\n",
       "        border: none;\n",
       "        /* Needs to be in here for Safari polyfill so background images work as expected. */\n",
       "        background-size: auto;\n",
       "    }\n",
       "    progress:not([value]), progress:not([value])::-webkit-progress-bar {\n",
       "        background: repeating-linear-gradient(45deg, #7e7e7e, #7e7e7e 10px, #5c5c5c 10px, #5c5c5c 20px);\n",
       "    }\n",
       "    .progress-bar-interrupted, .progress-bar-interrupted::-webkit-progress-bar {\n",
       "        background: #F44336;\n",
       "    }\n",
       "</style>\n"
      ],
      "text/plain": [
       "<IPython.core.display.HTML object>"
      ]
     },
     "metadata": {},
     "output_type": "display_data"
    },
    {
     "data": {
      "text/html": [
       "\n",
       "    <div>\n",
       "      <progress value='28000' class='' max='28000' style='width:300px; height:20px; vertical-align: middle;'></progress>\n",
       "      100.00% [28000/28000 00:06&lt;00:00 Sampling 4 chains, 0 divergences]\n",
       "    </div>\n",
       "    "
      ],
      "text/plain": [
       "<IPython.core.display.HTML object>"
      ]
     },
     "metadata": {},
     "output_type": "display_data"
    },
    {
     "name": "stderr",
     "output_type": "stream",
     "text": [
      "Sampling 4 chains for 2_000 tune and 5_000 draw iterations (8_000 + 20_000 draws total) took 7 seconds.\n",
      "Multiprocess sampling (4 chains in 4 jobs)\n",
      "CompoundStep\n",
      ">NUTS: [μ, σ²]\n",
      ">Metropolis: [ν_idx]\n"
     ]
    },
    {
     "data": {
      "text/html": [
       "\n",
       "<style>\n",
       "    /* Turns off some styling */\n",
       "    progress {\n",
       "        /* gets rid of default border in Firefox and Opera. */\n",
       "        border: none;\n",
       "        /* Needs to be in here for Safari polyfill so background images work as expected. */\n",
       "        background-size: auto;\n",
       "    }\n",
       "    progress:not([value]), progress:not([value])::-webkit-progress-bar {\n",
       "        background: repeating-linear-gradient(45deg, #7e7e7e, #7e7e7e 10px, #5c5c5c 10px, #5c5c5c 20px);\n",
       "    }\n",
       "    .progress-bar-interrupted, .progress-bar-interrupted::-webkit-progress-bar {\n",
       "        background: #F44336;\n",
       "    }\n",
       "</style>\n"
      ],
      "text/plain": [
       "<IPython.core.display.HTML object>"
      ]
     },
     "metadata": {},
     "output_type": "display_data"
    },
    {
     "data": {
      "text/html": [
       "\n",
       "    <div>\n",
       "      <progress value='28000' class='' max='28000' style='width:300px; height:20px; vertical-align: middle;'></progress>\n",
       "      100.00% [28000/28000 00:06&lt;00:00 Sampling 4 chains, 0 divergences]\n",
       "    </div>\n",
       "    "
      ],
      "text/plain": [
       "<IPython.core.display.HTML object>"
      ]
     },
     "metadata": {},
     "output_type": "display_data"
    },
    {
     "name": "stderr",
     "output_type": "stream",
     "text": [
      "Sampling 4 chains for 2_000 tune and 5_000 draw iterations (8_000 + 20_000 draws total) took 7 seconds.\n",
      "Multiprocess sampling (4 chains in 4 jobs)\n",
      "CompoundStep\n",
      ">NUTS: [μ, σ²]\n",
      ">Metropolis: [ν_idx]\n"
     ]
    },
    {
     "data": {
      "text/html": [
       "\n",
       "<style>\n",
       "    /* Turns off some styling */\n",
       "    progress {\n",
       "        /* gets rid of default border in Firefox and Opera. */\n",
       "        border: none;\n",
       "        /* Needs to be in here for Safari polyfill so background images work as expected. */\n",
       "        background-size: auto;\n",
       "    }\n",
       "    progress:not([value]), progress:not([value])::-webkit-progress-bar {\n",
       "        background: repeating-linear-gradient(45deg, #7e7e7e, #7e7e7e 10px, #5c5c5c 10px, #5c5c5c 20px);\n",
       "    }\n",
       "    .progress-bar-interrupted, .progress-bar-interrupted::-webkit-progress-bar {\n",
       "        background: #F44336;\n",
       "    }\n",
       "</style>\n"
      ],
      "text/plain": [
       "<IPython.core.display.HTML object>"
      ]
     },
     "metadata": {},
     "output_type": "display_data"
    },
    {
     "data": {
      "text/html": [
       "\n",
       "    <div>\n",
       "      <progress value='28000' class='' max='28000' style='width:300px; height:20px; vertical-align: middle;'></progress>\n",
       "      100.00% [28000/28000 00:07&lt;00:00 Sampling 4 chains, 0 divergences]\n",
       "    </div>\n",
       "    "
      ],
      "text/plain": [
       "<IPython.core.display.HTML object>"
      ]
     },
     "metadata": {},
     "output_type": "display_data"
    },
    {
     "name": "stderr",
     "output_type": "stream",
     "text": [
      "Sampling 4 chains for 2_000 tune and 5_000 draw iterations (8_000 + 20_000 draws total) took 7 seconds.\n"
     ]
    }
   ],
   "source": [
    "# question 2 \n",
    "true_nu = 5\n",
    "\n",
    "# Prior parameters\n",
    "mu_0 = 0\n",
    "tau_0 = 0.1  # Precision for μ's normal prior\n",
    "sigma0_sq = 10  # Scale² for σ²'s half-normal prior\n",
    "\n",
    "def run_model(n):\n",
    "    # Generate data\n",
    "    np.random.seed(42)\n",
    "    x = true_mu + np.sqrt(true_sigma2) * np.random.standard_t(true_nu, size=n)\n",
    "\n",
    "    with pm.Model() as model:\n",
    "        # Priors\n",
    "        μ = pm.Normal(\"μ\", mu=mu_0, sigma=1/np.sqrt(tau_0))\n",
    "        σ = pm.HalfNormal(\"σ²\", sigma=np.sqrt(sigma0_sq))\n",
    "        ν_idx = pm.Categorical(\"ν_idx\", p=np.ones(100)/100)  # Discrete uniform 0-99\n",
    "        ν = pm.Deterministic(\"ν\", ν_idx + 1)  # Shift to 1-100\n",
    "        \n",
    "        # Likelihood\n",
    "        pm.StudentT(\"x\", nu=ν, mu=μ, sigma=pm.math.sqrt(σ), observed=x)\n",
    "        \n",
    "        # Sampling: NUTS for μ/σ², Metropolis for ν\n",
    "        step1 = pm.NUTS([μ, σ])\n",
    "        step2 = pm.Metropolis([ν_idx])\n",
    "        trace = pm.sample(5000, tune=2000, step=[step1, step2], chains=4, return_inferencedata=True)\n",
    "    \n",
    "    return trace\n",
    "\n",
    "# Run for different sample sizes\n",
    "traces = {\n",
    "    \"n=30\": run_model(30),\n",
    "    \"n=100\": run_model(100),\n",
    "    \"n=500\": run_model(500)\n",
    "}\n"
   ]
  },
  {
   "cell_type": "code",
   "execution_count": 20,
   "id": "e97f65a4",
   "metadata": {},
   "outputs": [
    {
     "name": "stdout",
     "output_type": "stream",
     "text": [
      "\n",
      "=== n=30 ===\n",
      "    mean      sd  hdi_2.5%  hdi_97.5%  mcse_mean  mcse_sd  ess_bulk  ess_tail  \\\n",
      "ν  54.78  26.794      11.0       99.0       0.41     0.29    4281.0    4419.0   \n",
      "\n",
      "   r_hat  \n",
      "ν    1.0  \n",
      "\n",
      "=== n=100 ===\n",
      "    mean     sd  hdi_2.5%  hdi_97.5%  mcse_mean  mcse_sd  ess_bulk  ess_tail  \\\n",
      "ν  3.506  1.142       2.0        6.0      0.025    0.018    2408.0    2839.0   \n",
      "\n",
      "   r_hat  \n",
      "ν    1.0  \n",
      "\n",
      "=== n=500 ===\n",
      "    mean     sd  hdi_2.5%  hdi_97.5%  mcse_mean  mcse_sd  ess_bulk  ess_tail  \\\n",
      "ν  4.958  1.038       4.0        7.0      0.022    0.016    2203.0    2634.0   \n",
      "\n",
      "   r_hat  \n",
      "ν    1.0  \n"
     ]
    },
    {
     "data": {
      "text/plain": [
       "array([[<Axes: title={'center': 'ν'}>, <Axes: title={'center': 'ν'}>]],\n",
       "      dtype=object)"
      ]
     },
     "execution_count": 20,
     "metadata": {},
     "output_type": "execute_result"
    },
    {
     "data": {
      "image/png": "[encoded data removed]",
      "text/plain": [
       "<Figure size 1200x200 with 2 Axes>"
      ]
     },
     "metadata": {},
     "output_type": "display_data"
    }
   ],
   "source": [
    "# Summary statistics\n",
    "for name, trace in traces.items():\n",
    "    print(f\"\\n=== {name} ===\")\n",
    "    print(az.summary(trace, var_names=[\"ν\"], hdi_prob=0.95))\n",
    "\n",
    "# Trace plots\n",
    "az.plot_trace(traces[\"n=500\"], var_names=[\"ν\"], compact=False)"
   ]
  },
  {
   "cell_type": "markdown",
   "id": "b2b573a3",
   "metadata": {},
   "source": [
    "# Exploring the Role of Sample Size in Inferring Degrees of Freedom (ν)\n",
    "\n",
    "## Objective\n",
    "Investigate how sample size affects the posterior inference of the degrees of freedom parameter (ν) in a Student's t-distribution using Bayesian modeling (PyMC). Focus on uncertainty reduction and parameter identifiability.\n",
    "\n",
    "---\n",
    "\n",
    "## Key Findings\n",
    "\n",
    "### 1. **Small Sample Size (n=30)**\n",
    "   - **Posterior Uncertainty**: Wide 95% Highest Density Interval (HDI), e.g., ν ∈ [2, 20].  \n",
    "   - **Posterior Mean**: Often biased away from the true ν=5 (e.g., ~8-10).  \n",
    "   - **Explanation**:  \n",
    "     - Limited data cannot resolve the trade-off between heavy tails (low ν) and normality (high ν).  \n",
    "     - The likelihood is dominated by outliers, making ν ambiguous.\n",
    "\n",
    "---\n",
    "\n",
    "### 2. **Moderate Sample Size (n=100)**\n",
    "   - **Posterior Uncertainty**: Narrower HDI, e.g., ν ∈ [3, 10].  \n",
    "   - **Posterior Mean**: Closer to the true value (e.g., ~5-7).  \n",
    "   - **Explanation**:  \n",
    "     - Increased data provides more information about tail behavior.  \n",
    "     - Outliers are better contextualized, reducing ν’s ambiguity.\n",
    "\n",
    "---\n",
    "\n",
    "### 3. **Large Sample Size (n=500)**\n",
    "   - **Posterior Uncertainty**: Tight HDI around ν=5 (e.g., ν ∈ [4, 7]).  \n",
    "   - **Posterior Mean**: Accurately centers near ν=5.  \n",
    "   - **Explanation**:  \n",
    "     - Sufficient data resolves the tail thickness vs. outlier frequency trade-off.  \n",
    "     - The likelihood strongly penalizes ν values inconsistent with the data.\n",
    "\n",
    "\n",
    "## Conclusion\n",
    "- **Small n**: ν is poorly identified, leading to high posterior uncertainty.  \n",
    "- **Large n**: ν is sharply estimated, with the posterior concentrated near the true value.  \n",
    "- **Practical Implication**: Use n ≥ 100 for stable ν inference in t-distributions. For critical applications, prioritize larger samples to reduce tail-related uncertainty.\n"
   ]
  },
  {
   "cell_type": "markdown",
   "id": "335d80e5",
   "metadata": {},
   "source": []
  }
 ],
 "metadata": {
  "kernelspec": {
   "display_name": "Python 3 (ipykernel)",
   "language": "python",
   "name": "python3"
  },
  "language_info": {
   "codemirror_mode": {
    "name": "ipython",
    "version": 3
   },
   "file_extension": ".py",
   "mimetype": "text/x-python",
   "name": "python",
   "nbconvert_exporter": "python",
   "pygments_lexer": "ipython3",
   "version": "3.11.6"
  }
 },
 "nbformat": 4,
 "nbformat_minor": 5
}
